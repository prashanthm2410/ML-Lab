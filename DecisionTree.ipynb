{
 "cells": [
  {
   "cell_type": "code",
   "execution_count": 15,
   "id": "a62e0165-ea5f-4474-a9f6-85e92013c160",
   "metadata": {},
   "outputs": [
    {
     "name": "stdout",
     "output_type": "stream",
     "text": [
      "Empty DataFrame\n",
      "Columns: [Outlook, Temperature, Humidity, Windy, Play]\n",
      "Index: []\n",
      "14\n",
      "14\n",
      "0\n",
      "Accuracy: 20.0\n"
     ]
    }
   ],
   "source": [
    "import pandas as pd\n",
    "from sklearn.metrics import accuracy_score\n",
    "from sklearn.model_selection import train_test_split\n",
    "from sklearn.tree import DecisionTreeClassifier\n",
    "\n",
    "\n",
    "data = pd.read_csv('weather_forecast.csv')\n",
    "\n",
    "print(data[data.isnull().any(axis=1)].head())\n",
    "\n",
    "if 'number' in data.columns:\n",
    "    del data['number']\n",
    "\n",
    "before_rows = data.shape[0]\n",
    "print(before_rows)\n",
    "\n",
    "data = data.dropna()\n",
    "\n",
    "after_rows = data.shape[0]\n",
    "print(after_rows)\n",
    "\n",
    "print(before_rows - after_rows)\n",
    "\n",
    "clean_data = data.copy()\n",
    "\n",
    "clean_data = pd.get_dummies(clean_data, columns=['Outlook', 'Temperature', 'Humidity', 'Windy'], drop_first=True)\n",
    "\n",
    "X = clean_data.drop(columns=['Play']).copy()\n",
    "y = clean_data['Play'].copy()\n",
    "\n",
    "X_train, X_test, y_train, y_test = train_test_split(X, y, test_size=0.33, random_state=324)\n",
    "\n",
    "humidity_classifier = DecisionTreeClassifier(max_leaf_nodes=10, random_state=0)\n",
    "\n",
    "humidity_classifier.fit(X_train, y_train)\n",
    "\n",
    "y_predicted = humidity_classifier.predict(X_test)\n",
    "\n",
    "accuracy = accuracy_score(y_test, y_predicted) * 100\n",
    "print(\"Accuracy:\", accuracy)\n"
   ]
  },
  {
   "cell_type": "code",
   "execution_count": 16,
   "id": "ca37359d-b788-4f80-9b0e-b0e31b9f0c0e",
   "metadata": {},
   "outputs": [
    {
     "ename": "NameError",
     "evalue": "name 'plot_tree' is not defined",
     "output_type": "error",
     "traceback": [
      "\u001b[1;31m---------------------------------------------------------------------------\u001b[0m",
      "\u001b[1;31mNameError\u001b[0m                                 Traceback (most recent call last)",
      "Cell \u001b[1;32mIn[16], line 2\u001b[0m\n\u001b[0;32m      1\u001b[0m plt\u001b[38;5;241m.\u001b[39mfigure(figsize\u001b[38;5;241m=\u001b[39m(\u001b[38;5;241m20\u001b[39m,\u001b[38;5;241m10\u001b[39m))\n\u001b[1;32m----> 2\u001b[0m \u001b[43mplot_tree\u001b[49m(humidity_classifier, filled\u001b[38;5;241m=\u001b[39m\u001b[38;5;28;01mTrue\u001b[39;00m, feature_names\u001b[38;5;241m=\u001b[39mX\u001b[38;5;241m.\u001b[39mcolumns, class_names\u001b[38;5;241m=\u001b[39m[\u001b[38;5;124m\"\u001b[39m\u001b[38;5;124mNo\u001b[39m\u001b[38;5;124m\"\u001b[39m, \u001b[38;5;124m\"\u001b[39m\u001b[38;5;124mYes\u001b[39m\u001b[38;5;124m\"\u001b[39m])\n\u001b[0;32m      3\u001b[0m plt\u001b[38;5;241m.\u001b[39mshow()\n\u001b[0;32m      5\u001b[0m feature_importances \u001b[38;5;241m=\u001b[39m humidity_classifier\u001b[38;5;241m.\u001b[39mfeature_importances_\n",
      "\u001b[1;31mNameError\u001b[0m: name 'plot_tree' is not defined"
     ]
    },
    {
     "data": {
      "text/plain": [
       "<Figure size 2000x1000 with 0 Axes>"
      ]
     },
     "metadata": {},
     "output_type": "display_data"
    }
   ],
   "source": [
    "plt.figure(figsize=(20,10))\n",
    "plot_tree(humidity_classifier, filled=True, feature_names=X.columns, class_names=[\"No\", \"Yes\"])\n",
    "plt.show()\n",
    "\n",
    "feature_importances = humidity_classifier.feature_importances_\n",
    "plt.figure(figsize=(10,6))\n",
    "plt.bar(X.columns, feature_importances)\n",
    "plt.xlabel('Features')\n",
    "plt.ylabel('Importance')\n",
    "plt.title('Feature Importances')\n",
    "plt.xticks(rotation=45)\n",
    "plt.show()"
   ]
  },
  {
   "cell_type": "code",
   "execution_count": 8,
   "id": "e6a5f24e-0f61-4588-8526-37eae40e749b",
   "metadata": {},
   "outputs": [],
   "source": []
  }
 ],
 "metadata": {
  "kernelspec": {
   "display_name": "Python 3 (ipykernel)",
   "language": "python",
   "name": "python3"
  },
  "language_info": {
   "codemirror_mode": {
    "name": "ipython",
    "version": 3
   },
   "file_extension": ".py",
   "mimetype": "text/x-python",
   "name": "python",
   "nbconvert_exporter": "python",
   "pygments_lexer": "ipython3",
   "version": "3.10.9"
  }
 },
 "nbformat": 4,
 "nbformat_minor": 5
}
