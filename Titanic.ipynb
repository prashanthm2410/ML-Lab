{
 "cells": [
  {
   "cell_type": "code",
   "execution_count": 5,
   "metadata": {},
   "outputs": [],
   "source": [
    "import numpy as np\n",
    "import pandas as pd\n",
    "from sklearn.metrics import confusion_matrix\n",
    "from sklearn.model_selection import train_test_split\n",
    "df = pd.read_csv('titanic.csv')\n",
    "df = df[['Survived', 'Pclass', 'Age', 'SibSp', 'Parch', 'Fare', 'Embarked']]\n",
    "df['Age'].fillna(df['Age'].median(), inplace=True)\n",
    "df['Fare'].fillna(df['Fare'].median(), inplace=True)\n",
    "df['Embarked'].fillna(df['Embarked'].mode()[0], inplace=True)\n",
    "df['Embarked'] = df['Embarked'].map({'C': 0, 'Q': 1, 'S': 2})"
   ]
  },
  {
   "cell_type": "code",
   "execution_count": 6,
   "metadata": {},
   "outputs": [],
   "source": [
    "class NaiveBayesClassifier:\n",
    "    def __init__(self):\n",
    "        self.prior = {}\n",
    "        self.conditional = {}\n",
    "\n",
    "    def fit(self, X, y):\n",
    "        self.classes = np.unique(y)\n",
    "        for c in self.classes:\n",
    "            self.prior[c] = np.mean(y == c)\n",
    "\n",
    "        for feature in X.columns:\n",
    "            self.conditional[feature] = {}\n",
    "            for c in self.classes:\n",
    "                feature_values = X[feature][y == c]\n",
    "                self.conditional[feature][c] = {'mean': np.mean(feature_values), 'std': np.std(feature_values)}\n",
    "\n",
    "    def predict(self, X):\n",
    "        y_pred = []\n",
    "        for _, sample in X.iterrows():\n",
    "            probabilities = {}\n",
    "            for c in self.classes:\n",
    "                probabilities[c] = self.prior[c]\n",
    "                for feature in X.columns:\n",
    "                    mean = self.conditional[feature][c]['mean']\n",
    "                    std = self.conditional[feature][c]['std']\n",
    "                    x = sample[feature]\n",
    "                    probabilities[c] *= self._gaussian_pdf(x, mean, std)\n",
    "            y_pred.append(max(probabilities, key=probabilities.get))\n",
    "        return y_pred\n",
    "\n",
    "    def _gaussian_pdf(self, x, mean, std):\n",
    "        exponent = np.exp(-((x - mean) ** 2) / (2 * std ** 2))\n",
    "        return (1 / (np.sqrt(2 * np.pi) * std)) * exponent"
   ]
  },
  {
   "cell_type": "code",
   "execution_count": 7,
   "metadata": {},
   "outputs": [
    {
     "name": "stdout",
     "output_type": "stream",
     "text": [
      "Confusion Matrix:\n",
      " [[94 23]\n",
      " [38 24]]\n",
      "Accuracy: 0.659217877094972\n"
     ]
    }
   ],
   "source": [
    "train, test = train_test_split(df, test_size=0.2)\n",
    "\n",
    "X_train = train.drop('Survived', axis=1)\n",
    "y_train = train['Survived']\n",
    "X_test = test.drop('Survived', axis=1)\n",
    "y_test = test['Survived']\n",
    "\n",
    "classifier = NaiveBayesClassifier()\n",
    "classifier.fit(X_train, y_train)\n",
    "y_pred = classifier.predict(X_test)\n",
    "\n",
    "cm = confusion_matrix(y_test, y_pred)\n",
    "print(\"Confusion Matrix:\\n\", cm)\n",
    "accuracy = np.mean(y_pred == y_test)\n",
    "print(\"Accuracy:\", accuracy)"
   ]
  }
 ],
 "metadata": {
  "kernelspec": {
   "display_name": "Python 3",
   "language": "python",
   "name": "python3"
  },
  "language_info": {
   "codemirror_mode": {
    "name": "ipython",
    "version": 3
   },
   "file_extension": ".py",
   "mimetype": "text/x-python",
   "name": "python",
   "nbconvert_exporter": "python",
   "pygments_lexer": "ipython3",
   "version": "3.7.4"
  }
 },
 "nbformat": 4,
 "nbformat_minor": 4
}
