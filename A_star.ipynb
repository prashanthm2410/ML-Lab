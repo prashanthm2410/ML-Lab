{
 "cells": [
  {
   "cell_type": "code",
   "execution_count": 17,
   "metadata": {},
   "outputs": [],
   "source": [
    "def h(n):\n",
    "    H = {'A': 3, 'B': 4, 'C': 2, 'D': 6, 'G': 0, 'S': 5}\n",
    "    return H[n]\n"
   ]
  },
  {
   "cell_type": "code",
   "execution_count": 18,
   "metadata": {},
   "outputs": [],
   "source": [
    "def astar(graph,start,goal):\n",
    "    openlist = [start]\n",
    "    closedlist = set()\n",
    "    g = {start:0}\n",
    "    parents = {start:start}\n",
    "    while openlist:\n",
    "        openlist.sort(key=lambda v: g[v] + h(v), reverse= True)\n",
    "        n = openlist.pop()\n",
    "        if n==goal:\n",
    "            reconst_path = []\n",
    "            while parents[n]!=n:\n",
    "                reconst_path.append(n)\n",
    "                n = parents[n]\n",
    "            reconst_path.append(start)\n",
    "            reconst_path.reverse()\n",
    "            print(f'Path Found : {reconst_path}')\n",
    "            return reconst_path\n",
    "        for(m,weight) in graph[n]:\n",
    "            if m not in openlist and m not in closedlist:\n",
    "                openlist.append(m)\n",
    "                parents[m] = n\n",
    "                g[m] = g[n] + weight\n",
    "            else:\n",
    "                if g[m]>g[n]+weight:\n",
    "                    g[m] = g[n] + weight\n",
    "                    parents[m] = n\n",
    "                    if m in closedlist:\n",
    "                        closedlist.remove(m)\n",
    "                        openlist.append(m)\n",
    "        closedlist.add(n)\n",
    "    print(\"Path do not Exist!!!\")\n",
    "    return None    "
   ]
  },
  {
   "cell_type": "code",
   "execution_count": 19,
   "metadata": {},
   "outputs": [
    {
     "name": "stdout",
     "output_type": "stream",
     "text": [
      "Path Found : ['S', 'A', 'C', 'G']\n"
     ]
    },
    {
     "data": {
      "text/plain": [
       "['S', 'A', 'C', 'G']"
      ]
     },
     "execution_count": 19,
     "metadata": {},
     "output_type": "execute_result"
    }
   ],
   "source": [
    "graph = {\n",
    "    'S': [('A', 1), ('G', 10)],\n",
    "    'A': [('B', 2), ('C', 1)],\n",
    "    'B': [('D', 5)],\n",
    "    'C': [('D', 3),('G', 4)],\n",
    "    'D': [('G', 2)]\n",
    "}\n",
    "\n",
    "astar(graph, 'S', 'G')"
   ]
  }
 ],
 "metadata": {
  "kernelspec": {
   "display_name": "Python 3",
   "language": "python",
   "name": "python3"
  },
  "language_info": {
   "codemirror_mode": {
    "name": "ipython",
    "version": 3
   },
   "file_extension": ".py",
   "mimetype": "text/x-python",
   "name": "python",
   "nbconvert_exporter": "python",
   "pygments_lexer": "ipython3",
   "version": "3.7.4"
  }
 },
 "nbformat": 4,
 "nbformat_minor": 2
}
