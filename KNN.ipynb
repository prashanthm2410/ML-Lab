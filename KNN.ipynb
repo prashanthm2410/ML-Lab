{
 "cells": [
  {
   "cell_type": "code",
   "execution_count": 1,
   "metadata": {},
   "outputs": [],
   "source": [
    "import numpy as np\n",
    "import pandas as pd\n",
    "from collections import Counter\n",
    "from sklearn.model_selection import train_test_split"
   ]
  },
  {
   "cell_type": "code",
   "execution_count": 2,
   "metadata": {},
   "outputs": [],
   "source": [
    "def euclidean_distance(x1, x2):\n",
    "  distance = np.sqrt(np.sum((x1 - x2) ** 2))\n",
    "  return distance"
   ]
  },
  {
   "cell_type": "code",
   "execution_count": 3,
   "metadata": {},
   "outputs": [],
   "source": [
    "class KNN:\n",
    "  def __init__(self, k):\n",
    "    self.k = k\n",
    "\n",
    "  def fit(self, X, y):\n",
    "    self.X_train = X\n",
    "    self.y_train = y\n",
    "\n",
    "  def predict(self, X):\n",
    "    predictions = [self._predict(x) for x in X]\n",
    "    return predictions\n",
    "\n",
    "  def _predict(self, x):\n",
    "    distances = [euclidean_distance(x, x_train) for x_train in self.X_train]\n",
    "    k_indices = np.argsort(distances)[:self.k]\n",
    "    k_nearest_labels = [self.y_train[i] for i in k_indices]\n",
    "    most_common = Counter(k_nearest_labels).most_common()\n",
    "    return most_common[0][0]"
   ]
  },
  {
   "cell_type": "code",
   "execution_count": 4,
   "metadata": {},
   "outputs": [],
   "source": [
    "df = pd.read_csv('glass.csv')\n",
    "y = df['Type'].values\n",
    "X = df.drop('Type', axis=1).values\n",
    "\n",
    "X_train, X_test, y_train, y_test = train_test_split(X, y, test_size=0.3)\n",
    "clf = KNN(k=3)\n",
    "clf.fit(X_train, y_train)\n",
    "predictions = clf.predict(X_test)"
   ]
  },
  {
   "cell_type": "code",
   "execution_count": 5,
   "metadata": {},
   "outputs": [
    {
     "name": "stdout",
     "output_type": "stream",
     "text": [
      "[2, 2, 2, 1, 1, 2, 1, 7, 1, 1, 2, 2, 1, 2, 1, 1, 2, 1, 7, 2, 1, 1, 2, 1, 1, 7, 1, 1, 1, 2, 5, 2, 1, 2, 2, 1, 3, 7, 2, 5, 5, 2, 3, 2, 2, 2, 1, 1, 7, 1, 2, 7, 1, 1, 2, 2, 7, 1, 1, 1, 1, 2, 7, 3, 7]\n",
      "Accuracy: 0.6923076923076923\n"
     ]
    }
   ],
   "source": [
    "print(predictions)\n",
    "accuracy = np.sum(predictions == y_test) / len(y_test)\n",
    "print(\"Accuracy:\", accuracy)"
   ]
  }
 ],
 "metadata": {
  "kernelspec": {
   "display_name": "Python 3",
   "language": "python",
   "name": "python3"
  },
  "language_info": {
   "codemirror_mode": {
    "name": "ipython",
    "version": 3
   },
   "file_extension": ".py",
   "mimetype": "text/x-python",
   "name": "python",
   "nbconvert_exporter": "python",
   "pygments_lexer": "ipython3",
   "version": "3.7.4"
  }
 },
 "nbformat": 4,
 "nbformat_minor": 4
}
